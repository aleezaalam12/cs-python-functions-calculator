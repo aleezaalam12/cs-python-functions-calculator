{
 "cells": [
  {
   "cell_type": "markdown",
   "metadata": {},
   "source": [
    "## A simple calculator using functions\n",
    "\n",
    "1) Read code and discuss - ask questions!\n",
    "\n",
    "2) Comment code\n",
    "\n",
    "3) Extend the calculator with 5 more functions\n"
   ]
  },
  {
   "cell_type": "code",
   "execution_count": null,
   "metadata": {},
   "outputs": [],
   "source": [
    "def mainMenu():\n",
    "    validChoices = [\"A\", \"S\", \"M\"]\n",
    "    valid = False\n",
    "    while not valid:\n",
    "        print(\"A)dd numbers\")\n",
    "        print(\"S)ubtract numbers\")\n",
    "        print(\"M)ultiply numbers\")\n",
    "        choice = input(\"choose your option\").upper()\n",
    "        if choice not in validChoices:\n",
    "            print(\"sorry that is not a valid menu choice \")\n",
    "        else:\n",
    "            valid= True\n",
    "            \n",
    "    return choice\n",
    "    \n",
    "\n",
    "def enterNumber():\n",
    "    valid = False\n",
    "    while not valid:\n",
    "        try:\n",
    "            x=int(input(\"enter the first number\"))\n",
    "            valid=True\n",
    "        except ValueError:\n",
    "            print(\"That was not a valid number.. please try again\")\n",
    "    \n",
    "    return x\n",
    "\n",
    "def add(x,y):\n",
    "    \n",
    "    return x+y\n",
    "\n",
    "def subtract(x,y):\n",
    "    \n",
    "    return x-y\n",
    "\n",
    "#main program starts here\n",
    "print(\"welcome to my calculator\")\n",
    "again = \"y\"\n",
    "while again == \"y\":\n",
    "    \n",
    "    userChoice = mainMenu()\n",
    "    if userChoice == \"A\":\n",
    "        answer = add(enterNumber(), enterNumber())\n",
    "    elif userChoice == \"S\":\n",
    "        answer = subtract(enterNumber(), enterNumber())\n",
    "    elif userChoice == \"M\":\n",
    "        answer = multiply(enterNumber(), enterNumber())\n",
    "    else:\n",
    "        print(\"error - we should never get here\")\n",
    "    \n",
    "    print(\"the answer from your calcaulation is=\"+str(answer))\n",
    "    "
   ]
  }
 ],
 "metadata": {
  "kernelspec": {
   "display_name": "Python 3",
   "language": "python",
   "name": "python3"
  },
  "language_info": {
   "codemirror_mode": {
    "name": "ipython",
    "version": 3
   },
   "file_extension": ".py",
   "mimetype": "text/x-python",
   "name": "python",
   "nbconvert_exporter": "python",
   "pygments_lexer": "ipython3",
   "version": "3.6.8"
  }
 },
 "nbformat": 4,
 "nbformat_minor": 2
}
